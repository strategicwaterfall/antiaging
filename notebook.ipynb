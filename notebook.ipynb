{
 "cells": [
  {
   "cell_type": "code",
   "execution_count": 3,
   "metadata": {},
   "outputs": [],
   "source": [
    "#get papers for all companies using pymed library - and then rank order them to collect top 10 papers fro each company\n",
    "import pandas as pd\n",
    "import regex as re\n",
    "#%pip install pymed\n",
    "import numpy as np\n",
    "from pymed import PubMed\n",
    "pubmed_api_key = 'd3eec1f6d6ae8958046746ab8324ab97c608'\n",
    "\n",
    "\n",
    "pubmed = PubMed(tool='PubMedSearcher', email='pari2798@gmail.com')\n",
    "my_api_key = pubmed_api_key\n",
    "pubmed.parameters.update({'api_key': my_api_key})\n"
   ]
  },
  {
   "cell_type": "code",
   "execution_count": 34,
   "metadata": {},
   "outputs": [],
   "source": [
    "df_comapnies = pd.read_csv('aging_companies/Aging Companies - Companies.csv')"
   ]
  },
  {
   "cell_type": "code",
   "execution_count": 35,
   "metadata": {},
   "outputs": [],
   "source": [
    "df_comapnies_running = (df_comapnies[df_comapnies['operating status'] =='operating']).reset_index(drop=True)"
   ]
  },
  {
   "cell_type": "code",
   "execution_count": 36,
   "metadata": {},
   "outputs": [],
   "source": [
    "df_comapnies_running['company_name'] = df_comapnies_running['[HOW TO USE THIS TABLE]\\ncompany']"
   ]
  },
  {
   "cell_type": "code",
   "execution_count": 37,
   "metadata": {},
   "outputs": [],
   "source": [
    "df_comapnies_running['diseases'] =df_comapnies_running['diseases / indications']"
   ]
  },
  {
   "cell_type": "code",
   "execution_count": 38,
   "metadata": {},
   "outputs": [],
   "source": [
    "def remove_newline(x):\n",
    "    return x.replace('\\n','')\n",
    "def remove_all_characters_afternon_alphabet(x):\n",
    "    return re.sub(r'[^a-zA-Z]+', ' ', x)\n",
    "\n",
    "\n",
    "df_comapnies_running['company_name'] = df_comapnies_running['company_name'].apply(remove_newline)\n",
    "df_comapnies_running['company_name'] = df_comapnies_running['company_name'].apply(remove_all_characters_afternon_alphabet)"
   ]
  },
  {
   "cell_type": "code",
   "execution_count": 39,
   "metadata": {},
   "outputs": [],
   "source": [
    "# do extra check if there is an empty string"
   ]
  },
  {
   "cell_type": "code",
   "execution_count": 40,
   "metadata": {},
   "outputs": [],
   "source": [
    "def find_non_empty_string(x):\n",
    "    list_of_strings = []\n",
    "    for i in range(len(x)):\n",
    "        if x[i] != '':\n",
    "            list_of_strings.append([x[i],i])\n",
    "        else:\n",
    "            list_of_strings.append(['None',i])\n",
    "    return list_of_strings\n",
    "    \n",
    "\n"
   ]
  },
  {
   "cell_type": "code",
   "execution_count": 41,
   "metadata": {},
   "outputs": [],
   "source": [
    "def find_none_stringindoublelist(x):\n",
    "    list_of_strings = []\n",
    "    for i in range(len(x)):\n",
    "        if x[i][0] =='None':\n",
    "            list_of_strings.append(x[i])\n",
    "    return list_of_strings"
   ]
  },
  {
   "cell_type": "code",
   "execution_count": 42,
   "metadata": {},
   "outputs": [
    {
     "data": {
      "text/plain": [
       "0                                                 cancer\n",
       "1                                  chronic would healing\n",
       "2      AD, cancer, glaucoma,\\nCVD, unspecificed orpha...\n",
       "3                                            AD, PD, TBI\n",
       "4                                      cancer, cosmetics\n",
       "                             ...                        \n",
       "145                           OA, eyeDs, neuroDs, lungDs\n",
       "146                                                  NaN\n",
       "147                                                  NaN\n",
       "148                     PD, AD, ALS/FTLD, \\nglioblastoma\n",
       "149                                  hair loss, wrinkles\n",
       "Name: diseases, Length: 150, dtype: object"
      ]
     },
     "execution_count": 42,
     "metadata": {},
     "output_type": "execute_result"
    }
   ],
   "source": [
    "df_comapnies_running['diseases']"
   ]
  },
  {
   "cell_type": "code",
   "execution_count": 43,
   "metadata": {},
   "outputs": [],
   "source": [
    "\"\"\"\" function to replce NaN in the list with None string\"\"\"\n",
    "def replace_nan_with_none(x):\n",
    "    for i in range(len(x)):\n",
    "        if x[i] != x[i]:\n",
    "            x[i] = ''\n",
    "    return x"
   ]
  },
  {
   "cell_type": "code",
   "execution_count": 44,
   "metadata": {},
   "outputs": [
    {
     "name": "stderr",
     "output_type": "stream",
     "text": [
      "/var/folders/qh/mr12tldn3g76pnlklr517bsm0000gn/T/ipykernel_55602/3359128392.py:5: SettingWithCopyWarning: \n",
      "A value is trying to be set on a copy of a slice from a DataFrame\n",
      "\n",
      "See the caveats in the documentation: https://pandas.pydata.org/pandas-docs/stable/user_guide/indexing.html#returning-a-view-versus-a-copy\n",
      "  x[i] = ''\n"
     ]
    }
   ],
   "source": [
    "disease_list = replace_nan_with_none(df_comapnies_running['diseases'])"
   ]
  },
  {
   "cell_type": "code",
   "execution_count": 58,
   "metadata": {},
   "outputs": [
    {
     "name": "stdout",
     "output_type": "stream",
     "text": [
      "0                                                 cancer\n",
      "1                                  chronic would healing\n",
      "2      AD, cancer, glaucoma,\\nCVD, unspecificed orpha...\n",
      "3                                            AD, PD, TBI\n",
      "4                                      cancer, cosmetics\n",
      "                             ...                        \n",
      "145                           OA, eyeDs, neuroDs, lungDs\n",
      "146                                                     \n",
      "147                                                     \n",
      "148                     PD, AD, ALS/FTLD, \\nglioblastoma\n",
      "149                                  hair loss, wrinkles\n",
      "Name: diseases, Length: 150, dtype: object\n"
     ]
    }
   ],
   "source": [
    "print(disease_list)"
   ]
  },
  {
   "attachments": {},
   "cell_type": "markdown",
   "metadata": {},
   "source": [
    "# remove newline, comma, slash, other and split the diseases "
   ]
  },
  {
   "cell_type": "code",
   "execution_count": 57,
   "metadata": {},
   "outputs": [
    {
     "data": {
      "text/plain": [
       "' remove newline, comma, slash, other and split the diseases '"
      ]
     },
     "execution_count": 57,
     "metadata": {},
     "output_type": "execute_result"
    }
   ],
   "source": [
    "\n",
    "\n",
    "\"\"\" remove newline, comma, slash, other and split the diseases \"\"\""
   ]
  },
  {
   "cell_type": "code",
   "execution_count": null,
   "metadata": {},
   "outputs": [],
   "source": [
    "comapny_list = list(set(df_comapnies_running['company_name'].tolist()))"
   ]
  },
  {
   "cell_type": "code",
   "execution_count": 46,
   "metadata": {},
   "outputs": [
    {
     "data": {
      "text/plain": [
       "150"
      ]
     },
     "execution_count": 46,
     "metadata": {},
     "output_type": "execute_result"
    }
   ],
   "source": [
    "len(comapny_list)"
   ]
  },
  {
   "cell_type": "code",
   "execution_count": 47,
   "metadata": {},
   "outputs": [
    {
     "data": {
      "text/plain": [
       "'Fauna Bio'"
      ]
     },
     "execution_count": 47,
     "metadata": {},
     "output_type": "execute_result"
    }
   ],
   "source": [
    "comapny_list[0]"
   ]
  },
  {
   "cell_type": "code",
   "execution_count": 48,
   "metadata": {},
   "outputs": [],
   "source": [
    "\"\"\" function to combine two lists in to a list of tuples\"\"\"\n",
    "\n",
    "def combine_two_lists_into_tuple(x,y):\n",
    "    list_of_tuples = []\n",
    "    for i in range(len(x)):\n",
    "        list_of_tuples.append((x[i],y[i]))\n",
    "    return list_of_tuples"
   ]
  },
  {
   "cell_type": "code",
   "execution_count": null,
   "metadata": {},
   "outputs": [],
   "source": []
  },
  {
   "cell_type": "code",
   "execution_count": 49,
   "metadata": {},
   "outputs": [
    {
     "data": {
      "text/plain": [
       "[('Fauna Bio', 'cancer'),\n",
       " ('Fountain Therapeutics', 'chronic would healing'),\n",
       " ('IntraClear Biologics',\n",
       "  'AD, cancer, glaucoma,\\nCVD, unspecificed orphan pediatric disease'),\n",
       " ('GenFlow Biosciences', 'AD, PD, TBI'),\n",
       " ('Equator Therapeutics', 'cancer, cosmetics'),\n",
       " ('Oisin Bio OncoSenX ', ''),\n",
       " ('Elevian', ''),\n",
       " ('Genome Protection', 'IHD, T2D, CHF, scarless healing'),\n",
       " ('Tiaki Therapeutics', ''),\n",
       " ('Endogena Therapeutics', 'AD, cancer, Covid'),\n",
       " ('Intervene Immune', 'AD, FTD, cancer'),\n",
       " ('YouthBio Therapeutics', 'cancer, neuroDs, inflammation'),\n",
       " ('Altos Labs', 'AD, PD, (wet) AMD, ESRD MCI'),\n",
       " ('LyGenesis', 'AD, other MCI'),\n",
       " ('NavitorPharmaceuticals', ''),\n",
       " ('NemaLife Inc ', 'PD, AD'),\n",
       " ('Ridgeline Therapeutics', ''),\n",
       " ('Younger Phenotype', 'PD'),\n",
       " ('Altoida', 'neuroDs, CVD, others'),\n",
       " ('Samsara Therapeutics', 'cancer, progeroidDs,\\nundecided agingDs'),\n",
       " ('Centaura', 'cancer'),\n",
       " ('BioChange ltd', ''),\n",
       " ('Ichor Life Sciences was Therapeutics ', 'muscleDs,\\nimmuneDs, COVID-19'),\n",
       " ('Prodrome Sciences', ''),\n",
       " ('Gerostate Alpha', 'sarcopenia, AMD, MD'),\n",
       " ('Pluristem', ''),\n",
       " ('Amazentis', 'OA, IPF, cancer, AD, others'),\n",
       " ('Lento Bio', ''),\n",
       " ('Biosens', 'PD, neuroDs, HF'),\n",
       " ('Numeric Biotech', 'ALS, MS, AD, PD, HD, ARDS'),\n",
       " ('Beiwe Health', ''),\n",
       " ('BioViva', ''),\n",
       " ('CellVie', ''),\n",
       " ('Mogling Bio', ''),\n",
       " ('TruMe Labs', ''),\n",
       " ('Rubedo Life Sciences', ''),\n",
       " ('NuSirt', 'PD, AD, ALS, neuroDs'),\n",
       " ('GEn E Lifesciences', 'cancer, MCI, HF,\\nmitoDs, more...'),\n",
       " ('Cyclarity was Underdog ', ''),\n",
       " ('Elastrin Therapeutics', ''),\n",
       " ('Aeovian was Aeonian ', 'NASH, obesity, T2D,\\ncancer, other ageDs'),\n",
       " ('Dorian Therapeutics', 'CVD, AD, HIV'),\n",
       " ('New Limit', 'atherosclerosis, HCL, HF, AMD'),\n",
       " ('TurnBiotechnologies', ''),\n",
       " ('IHS Pets', \"AD, Parkinson's\"),\n",
       " ('Mesoblast', ''),\n",
       " ('InSilico Medicine', 'PD, ALS, AD, FTD, MS, neuroDs'),\n",
       " ('Loyal was Celevity', ''),\n",
       " (' North Inc', ''),\n",
       " ('Alixia reboot of Guided Clarity ', 'ATTR'),\n",
       " ('Life Length', 'arterialDs'),\n",
       " ('Cerevance', 'stroke, metabolic disease, TBI'),\n",
       " ('BioAge Labs', ''),\n",
       " ('Elysium Health', 'ALS, neuroDs'),\n",
       " ('Juvenescence', 'eyeDs, AMD, IPF'),\n",
       " ('Atropos Therapeutics', ''),\n",
       " ('RevelPharmaceuticals', ''),\n",
       " ('PharmatrophiX', ''),\n",
       " ('MyndYou', ''),\n",
       " ('Rejuveron Life Sciences AG', ''),\n",
       " ('Gero', ''),\n",
       " ('Sierra Sciences', 'life insurance'),\n",
       " ('Tranquis Therapeutics', 'acute lung injury, agingD?'),\n",
       " ('Juvify', ''),\n",
       " ('Alchemab Therapeutics', ''),\n",
       " ('Spring Discovery', 'various cancers'),\n",
       " ('Rejuveron Vascular Therapeutics AG was RejuverVas ', 'NA eyeDs, AMD'),\n",
       " ('Biophytis', 'life insurance, ?'),\n",
       " ('TAmiRNA', ''),\n",
       " ('BHB Therapeutics', ''),\n",
       " ('Yuva Biosciences', ''),\n",
       " ('Nuchido', ''),\n",
       " ('Longevica', 'AMD, other undisclosed'),\n",
       " ('Chronomics', 'AD, cancer, kidneyDs'),\n",
       " ('SENISCA', ''),\n",
       " ('GenSight Biologics', ''),\n",
       " ('Lyceum Pharmaceuticals', ''),\n",
       " ('Longevity Biotech', ''),\n",
       " ('Methuselah Health', ''),\n",
       " ('Eidos Therapeutics', ''),\n",
       " ('Cleara Biotech', ''),\n",
       " ('Unify Pharmaceuticals', 'MELAS'),\n",
       " ('ADx Neurosciences', 'presbyopia'),\n",
       " ('Retrotope', ''),\n",
       " ('ChromaDex', 'cancer'),\n",
       " ('Mitokinin', 'dry AMD, SCI, cancer, hearing loss'),\n",
       " ('Enclear Therapies', ''),\n",
       " ('Khondrian', 'pre-clinicalph.2 ready'),\n",
       " ('Shift Biosciences', 'PD, neuroDs, T2D, cancer'),\n",
       " (' Alarm Bio', ''),\n",
       " ('Cyclo Therapeutics', ''),\n",
       " ('Rejuveron Senescence Therapeutics was Rejuversen ', 'liverDs'),\n",
       " ('Yumanity Therapeutics',\n",
       "  'GVHD, HF, chronic back pain,\\nOA, diabetic nephropathy'),\n",
       " ('FOXO Technologies was Life Epigenetics ', ''),\n",
       " ('Mitrix bio formerly Mitochondrial Transfusion ', 'NA mitoDs, AD, PD, AMD'),\n",
       " ('Rejuvenation Technologies', 'AKI, DMD'),\n",
       " ('Amprion', 'DryEye, dryAMD, \\nglaucoma'),\n",
       " ('Epimorphy LLC MyDNAge ', 'AD, PD, CVD, sarcopenia'),\n",
       " ('TA Sciences', 'PD, HD, other mito & neuroDs?'),\n",
       " ('Alkahest', ''),\n",
       " ('SIWA Therapeutics', 'AD, other MCI'),\n",
       " ('Animal Biosciences', ''),\n",
       " ('Alector', 'HD, MCI, depression\\nmuscle wasting'),\n",
       " ('Edifice Health was iuve ', 'some specific worm\\ndisease models'),\n",
       " (' E Therapeutics was Hanako ', 'MCI'),\n",
       " ('Telocyte', ''),\n",
       " ('StealthBiotherapeutics', 'AD, T2D'),\n",
       " ('Age Labs', ''),\n",
       " ('Mitotech', 'neuroDs'),\n",
       " ('Rejuvenate Bio', 'NAFLD, NASH, T2D, obesity, hypertension'),\n",
       " ('CohBar Inc', 'cancer (all solids), more TBD'),\n",
       " ('Gordian Biotechnology', ''),\n",
       " ('AgeX Ther Reverse Bio', ''),\n",
       " ('Juvena Therapeutics', ''),\n",
       " ('Vaxxinity was United Neuro ', 'AD, neuroDs'),\n",
       " ('Blue Rock Therapeutics', 'muscle injury, cGVHD, Covid'),\n",
       " ('Napa Therapeutics', ''),\n",
       " ('Aspen Neuroscience', 'PD, neuroDs, cancers,\\nCVD, T2D, liverDs'),\n",
       " ('Mitobridge', 'HF, KF, obesity, T2D'),\n",
       " ('BYOMass Therapeutics', 'NASH, liverDs, IPF, cancer'),\n",
       " ('Calico', ''),\n",
       " ('Cytegen', 'cancer, fibrosis'),\n",
       " ('RepairBiotechnologies', ''),\n",
       " ('Scholar Rock', 'atherosclerosis, HCL,\\ncancer risk, HIV non-responders'),\n",
       " ('Newomics', 'NA mitoDs (FA, INAD), neuroDs'),\n",
       " ('Minovia Therapeutics', 'OA, kidneyDs, CVD, skin aging'),\n",
       " ('Cambrian Biopharma', 'T2D, sarcopenia, MD, glioblastoma'),\n",
       " ('IHS IntegratedHealth Systems ', 'cancer, frailty'),\n",
       " ('Humanity Inc', ''),\n",
       " ('Ponce de Leon Health Rejuvant', 'SPA, cancer, fibrosis'),\n",
       " ('Athersys Inc', ''),\n",
       " ('Biosplice was Samumed ', 'NA mitoD (MELAS), PD?'),\n",
       " ('FoxBio was Antoxerene ', ''),\n",
       " ('Denali Therapeutics', ''),\n",
       " ('Pano Therapeutics', ''),\n",
       " ('Eternans', 'NA mitoDs, AMD, HD, mito-neuroDs'),\n",
       " ('Centers for Age Control', ''),\n",
       " ('Genescient', 'OP, CVD, liverDs'),\n",
       " ('Lineage Cell Therapeutics', 'AD'),\n",
       " ('OpenCures was OpenOme ', 'AD, neuroDs'),\n",
       " ('Unity Biotechnology', 'ALS, PD, AD'),\n",
       " ('Longeveron', ''),\n",
       " ('NeuroTrack', ''),\n",
       " ('GlycanAge', 'AD, PD, ALS, neuroDs'),\n",
       " ('Life Biosciences', ''),\n",
       " ('Aelan Cell Technologies', 'OA, eyeDs, neuroDs, lungDs'),\n",
       " ('Deciduous Therapeutics', ''),\n",
       " ('Brainstorm Cell Therapeutics', ''),\n",
       " ('Covalent Bioscience', 'PD, AD, ALS/FTLD, \\nglioblastoma'),\n",
       " ('OneSkin Technologies', 'hair loss, wrinkles')]"
      ]
     },
     "execution_count": 49,
     "metadata": {},
     "output_type": "execute_result"
    }
   ],
   "source": [
    "combine_two_lists_into_tuple(comapny_list,disease_list)"
   ]
  },
  {
   "cell_type": "code",
   "execution_count": 124,
   "metadata": {},
   "outputs": [],
   "source": [
    "\n",
    "def get_papers_of_company(company_name):\n",
    "\n",
    "    try:\n",
    "\n",
    "\n",
    "        company_name = company_name.lower()\n",
    "        query_new = \"{0}[Affiliation]\".format(company_name)\n",
    "        results = pubmed.query(query_new, max_results=500)\n",
    "        article_list = []\n",
    "        \n",
    "        \n",
    "        for article in results:\n",
    "            try:\n",
    "                article_id = article.pubmed_id.partition('\\n')[0]\n",
    "                title = article.title\n",
    "                doi = article.doi\n",
    "                authors = article.authors\n",
    "                abstract = article.abstract\n",
    "                journal = article.journal\n",
    "                publication_date = article.publication_date\n",
    "                try:\n",
    "\n",
    "                # Extract and format information from the article\n",
    "    \n",
    "                    if article.keywords:\n",
    "                        if None in article.keywords:\n",
    "                            article.keywords.remove(None)\n",
    "                        keywords = '\", \"'.join(article.keywords)\n",
    "                    tuple_article = (company_name,article_id,title,keywords,publication_date,abstract,journal,doi,publication_date,authors)\n",
    "\n",
    "                except:\n",
    "                    keywords = []\n",
    "                    \n",
    "                    tuple_article = (company_name,article_id,title,keywords,publication_date,abstract,journal,doi,publication_date,authors)\n",
    "\n",
    "            except:\n",
    "                pass\n",
    "            \n",
    "            article_list.append(tuple_article)\n",
    "    except:\n",
    "        article_list.append((company_name,'None','None','None','None','None','None','None','None','None'))\n",
    "    return article_list\n",
    "\n",
    "\"\"\" convert a list of tuples into a dataframe\"\"\"\n",
    "def convert_list_of_tuples_to_dataframe(list_of_tuples):\n",
    "    df = pd.DataFrame(list_of_tuples, columns=['company_name','article_id','title','keywords','publication_date','abstract','journal','doi','publication_date','authors'])\n",
    "    return df\n",
    "        "
   ]
  },
  {
   "cell_type": "code",
   "execution_count": 127,
   "metadata": {},
   "outputs": [],
   "source": [
    "\"\"\" function that takes a list of companies and returns a dataframe of all the papers for each company\"\"\"   \n",
    "\n",
    "def get_papers_for_all_companies(list_of_companies):\n",
    "    list_of_dataframes = []\n",
    "    for company in list_of_companies:\n",
    "        list_of_tuples = get_papers_of_company(company)\n",
    "        df = convert_list_of_tuples_to_dataframe(list_of_tuples)\n",
    "        list_of_dataframes.append(df)\n",
    "        \n",
    "    return (pd.concat(list_of_dataframes)).reset_index(drop=True)"
   ]
  },
  {
   "cell_type": "code",
   "execution_count": 128,
   "metadata": {},
   "outputs": [],
   "source": [
    "df_papers_company_all1 = get_papers_for_all_companies(comapny_list[0:50])"
   ]
  },
  {
   "cell_type": "code",
   "execution_count": 138,
   "metadata": {},
   "outputs": [],
   "source": [
    "df_papers_company_all1 = pd.read_csv('comapny_papers_0_50.csv', index_col=0)"
   ]
  },
  {
   "cell_type": "code",
   "execution_count": 142,
   "metadata": {},
   "outputs": [],
   "source": [
    "df_papers_company_all2 = pd.read_csv('comapny_papers_50_100.csv', index_col=0)\n",
    "df_papers_company_all3 = pd.read_csv('comapny_papers_100_149.csv', index_col=0)\n"
   ]
  },
  {
   "cell_type": "code",
   "execution_count": null,
   "metadata": {},
   "outputs": [],
   "source": [
    "#df_papers_company_all2 = get_papers_for_all_companies(comapny_list[50:100])\n",
    "#df_papers_company_all2.to_csv('comapny_papers_50_100.csv')\n",
    "#df_papers_company_all3= get_papers_for_all_companies(comapny_list[100:149])\n",
    "#df_papers_company_all3.to_csv('comapny_papers_100_149.csv')"
   ]
  },
  {
   "cell_type": "code",
   "execution_count": 143,
   "metadata": {},
   "outputs": [],
   "source": [
    "final_df = pd.concat([df_papers_company_all1,df_papers_company_all2,df_papers_company_all3]).reset_index(drop=True)"
   ]
  },
  {
   "cell_type": "code",
   "execution_count": 145,
   "metadata": {},
   "outputs": [],
   "source": [
    "final_df = final_df.drop_duplicates(subset=['article_id'])"
   ]
  },
  {
   "cell_type": "code",
   "execution_count": 147,
   "metadata": {},
   "outputs": [],
   "source": [
    "final_df = final_df.drop(columns=['publication_date.1'])"
   ]
  },
  {
   "cell_type": "code",
   "execution_count": 149,
   "metadata": {},
   "outputs": [],
   "source": [
    "final_df = final_df.reset_index(drop=True)"
   ]
  },
  {
   "cell_type": "code",
   "execution_count": 151,
   "metadata": {},
   "outputs": [],
   "source": [
    "final_df['publication_date'] = pd.to_datetime(final_df['publication_date'])"
   ]
  },
  {
   "cell_type": "code",
   "execution_count": 154,
   "metadata": {},
   "outputs": [],
   "source": [
    "\"\"\" function that removes all rows in datetime column that are before given year\"\"\"\n",
    "\n",
    "def remove_rows_before_year(df,year):\n",
    "    df_copy = df.copy(deep=True)\n",
    "    df_copy = df_copy[df_copy['publication_date'].df_copy.year >= year]\n",
    "    return df_copy"
   ]
  },
  {
   "cell_type": "code",
   "execution_count": 156,
   "metadata": {},
   "outputs": [],
   "source": [
    "data_frame_2018_above_papers = (remove_rows_before_year(final_df,2018)).reset_index(drop=True)"
   ]
  },
  {
   "cell_type": "code",
   "execution_count": 158,
   "metadata": {},
   "outputs": [],
   "source": [
    "data_frame_2018_above_papers.to_csv('post2018_agingcomapnies_papers.csv')"
   ]
  },
  {
   "cell_type": "code",
   "execution_count": 161,
   "metadata": {},
   "outputs": [
    {
     "data": {
      "text/plain": [
       "100"
      ]
     },
     "execution_count": 161,
     "metadata": {},
     "output_type": "execute_result"
    }
   ],
   "source": [
    "len(list(set(data_frame_2018_above_papers['company_name'])))"
   ]
  },
  {
   "cell_type": "code",
   "execution_count": 4,
   "metadata": {},
   "outputs": [],
   "source": [
    "data_frame_2018_above_papers = pd.read_csv('post2018_agingcomapnies_papers.csv', index_col=0)"
   ]
  },
  {
   "cell_type": "code",
   "execution_count": 8,
   "metadata": {},
   "outputs": [
    {
     "data": {
      "text/html": [
       "<div>\n",
       "<style scoped>\n",
       "    .dataframe tbody tr th:only-of-type {\n",
       "        vertical-align: middle;\n",
       "    }\n",
       "\n",
       "    .dataframe tbody tr th {\n",
       "        vertical-align: top;\n",
       "    }\n",
       "\n",
       "    .dataframe thead th {\n",
       "        text-align: right;\n",
       "    }\n",
       "</style>\n",
       "<table border=\"1\" class=\"dataframe\">\n",
       "  <thead>\n",
       "    <tr style=\"text-align: right;\">\n",
       "      <th></th>\n",
       "      <th>company_name</th>\n",
       "      <th>article_id</th>\n",
       "      <th>title</th>\n",
       "      <th>keywords</th>\n",
       "      <th>publication_date</th>\n",
       "      <th>abstract</th>\n",
       "      <th>journal</th>\n",
       "      <th>doi</th>\n",
       "      <th>authors</th>\n",
       "    </tr>\n",
       "  </thead>\n",
       "  <tbody>\n",
       "    <tr>\n",
       "      <th>0</th>\n",
       "      <td>fauna bio</td>\n",
       "      <td>36420970</td>\n",
       "      <td>Microvesicle release from inner segments of he...</td>\n",
       "      <td>Microvesicle\", \"Mitochondria\", \"Photoreceptor\"...</td>\n",
       "      <td>2022-11-25</td>\n",
       "      <td>Many inherited visual diseases arise from muta...</td>\n",
       "      <td>Disease models &amp; mechanisms</td>\n",
       "      <td>10.1242/dmm.049871</td>\n",
       "      <td>[{'lastname': 'Lewis', 'firstname': 'Tylor R',...</td>\n",
       "    </tr>\n",
       "    <tr>\n",
       "      <th>1</th>\n",
       "      <td>fauna bio</td>\n",
       "      <td>35482869</td>\n",
       "      <td>Ancestry-inclusive dog genomics challenges pop...</td>\n",
       "      <td>Microvesicle\", \"Mitochondria\", \"Photoreceptor\"...</td>\n",
       "      <td>2022-04-29</td>\n",
       "      <td>Behavioral genetics in dogs has focused on mod...</td>\n",
       "      <td>Science (New York, N.Y.)</td>\n",
       "      <td>10.1126/science.abk0639\\n10.1038/nature04338\\n...</td>\n",
       "      <td>[{'lastname': 'Morrill', 'firstname': 'Kathlee...</td>\n",
       "    </tr>\n",
       "    <tr>\n",
       "      <th>2</th>\n",
       "      <td>fauna bio</td>\n",
       "      <td>33536943</td>\n",
       "      <td>Dynamic RNA Regulation in the Brain Underlies ...</td>\n",
       "      <td>ARE binding proteins\", \"AU-rich element (ARE)\"...</td>\n",
       "      <td>2021-02-05</td>\n",
       "      <td>Hibernation is a physiological and behavioral ...</td>\n",
       "      <td>Frontiers in physiology</td>\n",
       "      <td>10.3389/fphys.2020.624677\\n10.1021/acs.biochem...</td>\n",
       "      <td>[{'lastname': 'Fu', 'firstname': 'Rui', 'initi...</td>\n",
       "    </tr>\n",
       "    <tr>\n",
       "      <th>3</th>\n",
       "      <td>fauna bio</td>\n",
       "      <td>32734172</td>\n",
       "      <td>Veterinary informatics: forging the future bet...</td>\n",
       "      <td>informatics\", \"medicine\", \"one health\", \"trans...</td>\n",
       "      <td>2020-08-01</td>\n",
       "      <td>This manuscript reviews the current state of v...</td>\n",
       "      <td>JAMIA open</td>\n",
       "      <td>10.1093/jamiaopen/ooaa005</td>\n",
       "      <td>[{'lastname': 'Lustgarten', 'firstname': 'Jona...</td>\n",
       "    </tr>\n",
       "    <tr>\n",
       "      <th>4</th>\n",
       "      <td>fauna bio</td>\n",
       "      <td>32569327</td>\n",
       "      <td>FasTag: Automatic text classification of unstr...</td>\n",
       "      <td>informatics\", \"medicine\", \"one health\", \"trans...</td>\n",
       "      <td>2020-06-23</td>\n",
       "      <td>Unstructured clinical narratives are continuou...</td>\n",
       "      <td>PloS one</td>\n",
       "      <td>10.1371/journal.pone.0234647\\n10.1212/WNL.49.3...</td>\n",
       "      <td>[{'lastname': 'Venkataraman', 'firstname': 'Gu...</td>\n",
       "    </tr>\n",
       "    <tr>\n",
       "      <th>...</th>\n",
       "      <td>...</td>\n",
       "      <td>...</td>\n",
       "      <td>...</td>\n",
       "      <td>...</td>\n",
       "      <td>...</td>\n",
       "      <td>...</td>\n",
       "      <td>...</td>\n",
       "      <td>...</td>\n",
       "      <td>...</td>\n",
       "    </tr>\n",
       "    <tr>\n",
       "      <th>3406</th>\n",
       "      <td>brainstorm cell therapeutics</td>\n",
       "      <td>34890069</td>\n",
       "      <td>A randomized placebo-controlled phase 3 study ...</td>\n",
       "      <td>ALSFRS-R\", \"amyotrophic lateral sclerosis\", \"b...</td>\n",
       "      <td>2021-12-11</td>\n",
       "      <td>Amyotrophic lateral sclerosis (ALS) is a fatal...</td>\n",
       "      <td>Muscle &amp; nerve</td>\n",
       "      <td>10.1002/mus.27472\\n10.1056/NEJMra1603471\\n10.3...</td>\n",
       "      <td>[{'lastname': 'Cudkowicz', 'firstname': 'Merit...</td>\n",
       "    </tr>\n",
       "    <tr>\n",
       "      <th>3407</th>\n",
       "      <td>brainstorm cell therapeutics</td>\n",
       "      <td>33468250</td>\n",
       "      <td>MSC-NTF (NurOwn®) exosomes: a novel therapeuti...</td>\n",
       "      <td>Acute respiratory distress syndrome\", \"COVID-1...</td>\n",
       "      <td>2021-01-21</td>\n",
       "      <td>One of the most severe complications of the cu...</td>\n",
       "      <td>Stem cell research &amp; therapy</td>\n",
       "      <td>10.1186/s13287-021-02143-w\\n10.1007/s11606-020...</td>\n",
       "      <td>[{'lastname': 'Kaspi', 'firstname': 'Haggai', ...</td>\n",
       "    </tr>\n",
       "    <tr>\n",
       "      <th>3408</th>\n",
       "      <td>brainstorm cell therapeutics</td>\n",
       "      <td>32808546</td>\n",
       "      <td>Effects of MSC-NTF cells on T and B regulatory...</td>\n",
       "      <td>Acute respiratory distress syndrome\", \"COVID-1...</td>\n",
       "      <td>2020-08-19</td>\n",
       "      <td>NaN</td>\n",
       "      <td>Amyotrophic lateral sclerosis &amp; frontotemporal...</td>\n",
       "      <td>10.1080/21678421.2020.1800747</td>\n",
       "      <td>[{'lastname': 'Kern', 'firstname': 'Ralph', 'i...</td>\n",
       "    </tr>\n",
       "    <tr>\n",
       "      <th>3409</th>\n",
       "      <td>brainstorm cell therapeutics</td>\n",
       "      <td>31899540</td>\n",
       "      <td>Addressing heterogeneity in amyotrophic latera...</td>\n",
       "      <td>amyotrophic lateral sclerosis\", \"biomarkers\", ...</td>\n",
       "      <td>2020-01-04</td>\n",
       "      <td>Amyotrophic lateral sclerosis (ALS) is a debil...</td>\n",
       "      <td>Muscle &amp; nerve</td>\n",
       "      <td>10.1002/mus.26801</td>\n",
       "      <td>[{'lastname': 'Goyal', 'firstname': 'Namita A'...</td>\n",
       "    </tr>\n",
       "    <tr>\n",
       "      <th>3410</th>\n",
       "      <td>brainstorm cell therapeutics</td>\n",
       "      <td>31740545</td>\n",
       "      <td>NurOwn, phase 2, randomized, clinical trial in...</td>\n",
       "      <td>amyotrophic lateral sclerosis\", \"biomarkers\", ...</td>\n",
       "      <td>2019-11-20</td>\n",
       "      <td>To determine the safety and efficacy of mesenc...</td>\n",
       "      <td>Neurology</td>\n",
       "      <td>10.1212/WNL.0000000000008620</td>\n",
       "      <td>[{'lastname': 'Berry', 'firstname': 'James D',...</td>\n",
       "    </tr>\n",
       "  </tbody>\n",
       "</table>\n",
       "<p>3411 rows × 9 columns</p>\n",
       "</div>"
      ],
      "text/plain": [
       "                      company_name  article_id  \\\n",
       "0                        fauna bio    36420970   \n",
       "1                        fauna bio    35482869   \n",
       "2                        fauna bio    33536943   \n",
       "3                        fauna bio    32734172   \n",
       "4                        fauna bio    32569327   \n",
       "...                            ...         ...   \n",
       "3406  brainstorm cell therapeutics    34890069   \n",
       "3407  brainstorm cell therapeutics    33468250   \n",
       "3408  brainstorm cell therapeutics    32808546   \n",
       "3409  brainstorm cell therapeutics    31899540   \n",
       "3410  brainstorm cell therapeutics    31740545   \n",
       "\n",
       "                                                  title  \\\n",
       "0     Microvesicle release from inner segments of he...   \n",
       "1     Ancestry-inclusive dog genomics challenges pop...   \n",
       "2     Dynamic RNA Regulation in the Brain Underlies ...   \n",
       "3     Veterinary informatics: forging the future bet...   \n",
       "4     FasTag: Automatic text classification of unstr...   \n",
       "...                                                 ...   \n",
       "3406  A randomized placebo-controlled phase 3 study ...   \n",
       "3407  MSC-NTF (NurOwn®) exosomes: a novel therapeuti...   \n",
       "3408  Effects of MSC-NTF cells on T and B regulatory...   \n",
       "3409  Addressing heterogeneity in amyotrophic latera...   \n",
       "3410  NurOwn, phase 2, randomized, clinical trial in...   \n",
       "\n",
       "                                               keywords publication_date  \\\n",
       "0     Microvesicle\", \"Mitochondria\", \"Photoreceptor\"...       2022-11-25   \n",
       "1     Microvesicle\", \"Mitochondria\", \"Photoreceptor\"...       2022-04-29   \n",
       "2     ARE binding proteins\", \"AU-rich element (ARE)\"...       2021-02-05   \n",
       "3     informatics\", \"medicine\", \"one health\", \"trans...       2020-08-01   \n",
       "4     informatics\", \"medicine\", \"one health\", \"trans...       2020-06-23   \n",
       "...                                                 ...              ...   \n",
       "3406  ALSFRS-R\", \"amyotrophic lateral sclerosis\", \"b...       2021-12-11   \n",
       "3407  Acute respiratory distress syndrome\", \"COVID-1...       2021-01-21   \n",
       "3408  Acute respiratory distress syndrome\", \"COVID-1...       2020-08-19   \n",
       "3409  amyotrophic lateral sclerosis\", \"biomarkers\", ...       2020-01-04   \n",
       "3410  amyotrophic lateral sclerosis\", \"biomarkers\", ...       2019-11-20   \n",
       "\n",
       "                                               abstract  \\\n",
       "0     Many inherited visual diseases arise from muta...   \n",
       "1     Behavioral genetics in dogs has focused on mod...   \n",
       "2     Hibernation is a physiological and behavioral ...   \n",
       "3     This manuscript reviews the current state of v...   \n",
       "4     Unstructured clinical narratives are continuou...   \n",
       "...                                                 ...   \n",
       "3406  Amyotrophic lateral sclerosis (ALS) is a fatal...   \n",
       "3407  One of the most severe complications of the cu...   \n",
       "3408                                                NaN   \n",
       "3409  Amyotrophic lateral sclerosis (ALS) is a debil...   \n",
       "3410  To determine the safety and efficacy of mesenc...   \n",
       "\n",
       "                                                journal  \\\n",
       "0                           Disease models & mechanisms   \n",
       "1                              Science (New York, N.Y.)   \n",
       "2                               Frontiers in physiology   \n",
       "3                                            JAMIA open   \n",
       "4                                              PloS one   \n",
       "...                                                 ...   \n",
       "3406                                     Muscle & nerve   \n",
       "3407                       Stem cell research & therapy   \n",
       "3408  Amyotrophic lateral sclerosis & frontotemporal...   \n",
       "3409                                     Muscle & nerve   \n",
       "3410                                          Neurology   \n",
       "\n",
       "                                                    doi  \\\n",
       "0                                    10.1242/dmm.049871   \n",
       "1     10.1126/science.abk0639\\n10.1038/nature04338\\n...   \n",
       "2     10.3389/fphys.2020.624677\\n10.1021/acs.biochem...   \n",
       "3                             10.1093/jamiaopen/ooaa005   \n",
       "4     10.1371/journal.pone.0234647\\n10.1212/WNL.49.3...   \n",
       "...                                                 ...   \n",
       "3406  10.1002/mus.27472\\n10.1056/NEJMra1603471\\n10.3...   \n",
       "3407  10.1186/s13287-021-02143-w\\n10.1007/s11606-020...   \n",
       "3408                      10.1080/21678421.2020.1800747   \n",
       "3409                                  10.1002/mus.26801   \n",
       "3410                       10.1212/WNL.0000000000008620   \n",
       "\n",
       "                                                authors  \n",
       "0     [{'lastname': 'Lewis', 'firstname': 'Tylor R',...  \n",
       "1     [{'lastname': 'Morrill', 'firstname': 'Kathlee...  \n",
       "2     [{'lastname': 'Fu', 'firstname': 'Rui', 'initi...  \n",
       "3     [{'lastname': 'Lustgarten', 'firstname': 'Jona...  \n",
       "4     [{'lastname': 'Venkataraman', 'firstname': 'Gu...  \n",
       "...                                                 ...  \n",
       "3406  [{'lastname': 'Cudkowicz', 'firstname': 'Merit...  \n",
       "3407  [{'lastname': 'Kaspi', 'firstname': 'Haggai', ...  \n",
       "3408  [{'lastname': 'Kern', 'firstname': 'Ralph', 'i...  \n",
       "3409  [{'lastname': 'Goyal', 'firstname': 'Namita A'...  \n",
       "3410  [{'lastname': 'Berry', 'firstname': 'James D',...  \n",
       "\n",
       "[3411 rows x 9 columns]"
      ]
     },
     "execution_count": 8,
     "metadata": {},
     "output_type": "execute_result"
    }
   ],
   "source": [
    "data_frame_2018_above_papers\n",
    "#contains empty abstracts so remvoe all rows with empty abstracts or title or keywords"
   ]
  },
  {
   "cell_type": "code",
   "execution_count": 100,
   "metadata": {},
   "outputs": [
    {
     "data": {
      "text/plain": [
       "{' alarm bio',\n",
       " ' north inc',\n",
       " 'adx neurosciences',\n",
       " 'aelan cell technologies',\n",
       " 'age labs',\n",
       " 'alchemab therapeutics',\n",
       " 'alector',\n",
       " 'alkahest',\n",
       " 'altoida',\n",
       " 'altos labs',\n",
       " 'amazentis',\n",
       " 'amprion',\n",
       " 'animal biosciences',\n",
       " 'aspen neuroscience',\n",
       " 'athersys inc',\n",
       " 'atropos therapeutics',\n",
       " 'beiwe health',\n",
       " 'bhb therapeutics',\n",
       " 'bioage labs',\n",
       " 'biochange ltd',\n",
       " 'biophytis',\n",
       " 'biosens',\n",
       " 'bioviva',\n",
       " 'blue rock therapeutics',\n",
       " 'brainstorm cell therapeutics',\n",
       " 'calico',\n",
       " 'cambrian biopharma',\n",
       " 'centaura',\n",
       " 'centers for age control',\n",
       " 'cerevance',\n",
       " 'chromadex',\n",
       " 'chronomics',\n",
       " 'cohbar inc',\n",
       " 'cyclarity was underdog ',\n",
       " 'cyclo therapeutics',\n",
       " 'deciduous therapeutics',\n",
       " 'denali therapeutics',\n",
       " 'dorian therapeutics',\n",
       " 'eidos therapeutics',\n",
       " 'elysium health',\n",
       " 'equator therapeutics',\n",
       " 'eternans',\n",
       " 'fauna bio',\n",
       " 'fountain therapeutics',\n",
       " 'genflow biosciences',\n",
       " 'genome protection',\n",
       " 'gensight biologics',\n",
       " 'gero',\n",
       " 'gerostate alpha',\n",
       " 'gordian biotechnology',\n",
       " 'humanity inc',\n",
       " 'ichor life sciences was therapeutics ',\n",
       " 'insilico medicine',\n",
       " 'intervene immune',\n",
       " 'intraclear biologics',\n",
       " 'juvenescence',\n",
       " 'life biosciences',\n",
       " 'life length',\n",
       " 'lineage cell therapeutics',\n",
       " 'longeveron',\n",
       " 'longevity biotech',\n",
       " 'lyceum pharmaceuticals',\n",
       " 'lygenesis',\n",
       " 'mesoblast',\n",
       " 'methuselah health',\n",
       " 'minovia therapeutics',\n",
       " 'mitobridge',\n",
       " 'mitokinin',\n",
       " 'mitotech',\n",
       " 'napa therapeutics',\n",
       " 'nemalife inc ',\n",
       " 'neurotrack',\n",
       " 'new limit',\n",
       " 'newomics',\n",
       " 'nuchido',\n",
       " 'numeric biotech',\n",
       " 'nusirt',\n",
       " 'pano therapeutics',\n",
       " 'pluristem',\n",
       " 'prodrome sciences',\n",
       " 'rejuvenate bio',\n",
       " 'rejuvenation technologies',\n",
       " 'rejuveron life sciences ag',\n",
       " 'retrotope',\n",
       " 'ridgeline therapeutics',\n",
       " 'rubedo life sciences',\n",
       " 'samsara therapeutics',\n",
       " 'scholar rock',\n",
       " 'senisca',\n",
       " 'shift biosciences',\n",
       " 'siwa therapeutics',\n",
       " 'spring discovery',\n",
       " 'tamirna',\n",
       " 'telocyte',\n",
       " 'tranquis therapeutics',\n",
       " 'unify pharmaceuticals',\n",
       " 'unity biotechnology',\n",
       " 'younger phenotype',\n",
       " 'yumanity therapeutics',\n",
       " 'yuva biosciences'}"
      ]
     },
     "execution_count": 100,
     "metadata": {},
     "output_type": "execute_result"
    }
   ],
   "source": [
    "set(data_frame_2018_above_papers['company_name'])"
   ]
  },
  {
   "cell_type": "code",
   "execution_count": 10,
   "metadata": {},
   "outputs": [],
   "source": [
    "\"\"\" fumction to remove rows with empty abstracts or title or keywords\"\"\"    \n",
    "\n",
    "def remove_rows_with_empty_abstracts(df):\n",
    "    df_copy = df.copy(deep=True)\n",
    "    df_copy = df_copy.dropna(subset=['abstract','title','keywords'])\n",
    "    return df_copy"
   ]
  },
  {
   "cell_type": "code",
   "execution_count": 11,
   "metadata": {},
   "outputs": [],
   "source": [
    "df_clean_papers = remove_rows_with_empty_abstracts(data_frame_2018_above_papers)"
   ]
  },
  {
   "cell_type": "code",
   "execution_count": 13,
   "metadata": {},
   "outputs": [],
   "source": [
    "df_clean_papers = df_clean_papers.reset_index(drop=True)"
   ]
  },
  {
   "cell_type": "code",
   "execution_count": 81,
   "metadata": {},
   "outputs": [],
   "source": [
    "test_string = df_clean_papers['authors'][1]"
   ]
  },
  {
   "cell_type": "code",
   "execution_count": 82,
   "metadata": {},
   "outputs": [
    {
     "data": {
      "text/html": [
       "<div>\n",
       "<style scoped>\n",
       "    .dataframe tbody tr th:only-of-type {\n",
       "        vertical-align: middle;\n",
       "    }\n",
       "\n",
       "    .dataframe tbody tr th {\n",
       "        vertical-align: top;\n",
       "    }\n",
       "\n",
       "    .dataframe thead th {\n",
       "        text-align: right;\n",
       "    }\n",
       "</style>\n",
       "<table border=\"1\" class=\"dataframe\">\n",
       "  <thead>\n",
       "    <tr style=\"text-align: right;\">\n",
       "      <th></th>\n",
       "      <th>lastname</th>\n",
       "      <th>firstname</th>\n",
       "      <th>initials</th>\n",
       "      <th>affiliation</th>\n",
       "    </tr>\n",
       "  </thead>\n",
       "  <tbody>\n",
       "    <tr>\n",
       "      <th>0</th>\n",
       "      <td>Morrill</td>\n",
       "      <td>Kathleen</td>\n",
       "      <td>K</td>\n",
       "      <td>Bioinformatics and Integrative Biology, Univer...</td>\n",
       "    </tr>\n",
       "    <tr>\n",
       "      <th>1</th>\n",
       "      <td>Hekman</td>\n",
       "      <td>Jessica</td>\n",
       "      <td>J</td>\n",
       "      <td>Broad Institute of MIT and Harvard, Cambridge,...</td>\n",
       "    </tr>\n",
       "    <tr>\n",
       "      <th>2</th>\n",
       "      <td>Li</td>\n",
       "      <td>Xue</td>\n",
       "      <td>X</td>\n",
       "      <td>Bioinformatics and Integrative Biology, Univer...</td>\n",
       "    </tr>\n",
       "    <tr>\n",
       "      <th>3</th>\n",
       "      <td>McClure</td>\n",
       "      <td>Jesse</td>\n",
       "      <td>J</td>\n",
       "      <td>Bioinformatics and Integrative Biology, Univer...</td>\n",
       "    </tr>\n",
       "    <tr>\n",
       "      <th>4</th>\n",
       "      <td>Logan</td>\n",
       "      <td>Brittney</td>\n",
       "      <td>B</td>\n",
       "      <td>Bioinformatics and Integrative Biology, Univer...</td>\n",
       "    </tr>\n",
       "    <tr>\n",
       "      <th>5</th>\n",
       "      <td>Goodman</td>\n",
       "      <td>Linda</td>\n",
       "      <td>L</td>\n",
       "      <td>Broad Institute of MIT and Harvard, Cambridge,...</td>\n",
       "    </tr>\n",
       "    <tr>\n",
       "      <th>6</th>\n",
       "      <td>Gao</td>\n",
       "      <td>Mingshi</td>\n",
       "      <td>M</td>\n",
       "      <td>Bioinformatics and Integrative Biology, Univer...</td>\n",
       "    </tr>\n",
       "    <tr>\n",
       "      <th>7</th>\n",
       "      <td>Dong</td>\n",
       "      <td>Yinan</td>\n",
       "      <td>Y</td>\n",
       "      <td>Bioinformatics and Integrative Biology, Univer...</td>\n",
       "    </tr>\n",
       "    <tr>\n",
       "      <th>8</th>\n",
       "      <td>Alonso</td>\n",
       "      <td>Marjie</td>\n",
       "      <td>M</td>\n",
       "      <td>The International Association of Animal Behavi...</td>\n",
       "    </tr>\n",
       "    <tr>\n",
       "      <th>9</th>\n",
       "      <td>Carmichael</td>\n",
       "      <td>Elena</td>\n",
       "      <td>E</td>\n",
       "      <td>Bioinformatics and Integrative Biology, Univer...</td>\n",
       "    </tr>\n",
       "    <tr>\n",
       "      <th>10</th>\n",
       "      <td>Snyder-Mackler</td>\n",
       "      <td>Noah</td>\n",
       "      <td>N</td>\n",
       "      <td>Center for Evolution and Medicine, Arizona Sta...</td>\n",
       "    </tr>\n",
       "    <tr>\n",
       "      <th>11</th>\n",
       "      <td>Alonso</td>\n",
       "      <td>Jacob</td>\n",
       "      <td>J</td>\n",
       "      <td>Broad Institute of MIT and Harvard, Cambridge,...</td>\n",
       "    </tr>\n",
       "    <tr>\n",
       "      <th>12</th>\n",
       "      <td>Noh</td>\n",
       "      <td>Hyun Ji</td>\n",
       "      <td>HJ</td>\n",
       "      <td>Broad Institute of MIT and Harvard, Cambridge,...</td>\n",
       "    </tr>\n",
       "    <tr>\n",
       "      <th>13</th>\n",
       "      <td>Johnson</td>\n",
       "      <td>Jeremy</td>\n",
       "      <td>J</td>\n",
       "      <td>Broad Institute of MIT and Harvard, Cambridge,...</td>\n",
       "    </tr>\n",
       "    <tr>\n",
       "      <th>14</th>\n",
       "      <td>Koltookian</td>\n",
       "      <td>Michele</td>\n",
       "      <td>M</td>\n",
       "      <td>Broad Institute of MIT and Harvard, Cambridge,...</td>\n",
       "    </tr>\n",
       "    <tr>\n",
       "      <th>15</th>\n",
       "      <td>Lieu</td>\n",
       "      <td>Charlie</td>\n",
       "      <td>C</td>\n",
       "      <td>Broad Institute of MIT and Harvard, Cambridge,...</td>\n",
       "    </tr>\n",
       "    <tr>\n",
       "      <th>16</th>\n",
       "      <td>Megquier</td>\n",
       "      <td>Kate</td>\n",
       "      <td>K</td>\n",
       "      <td>Broad Institute of MIT and Harvard, Cambridge,...</td>\n",
       "    </tr>\n",
       "    <tr>\n",
       "      <th>17</th>\n",
       "      <td>Swofford</td>\n",
       "      <td>Ross</td>\n",
       "      <td>R</td>\n",
       "      <td>Broad Institute of MIT and Harvard, Cambridge,...</td>\n",
       "    </tr>\n",
       "    <tr>\n",
       "      <th>18</th>\n",
       "      <td>Turner-Maier</td>\n",
       "      <td>Jason</td>\n",
       "      <td>J</td>\n",
       "      <td>Broad Institute of MIT and Harvard, Cambridge,...</td>\n",
       "    </tr>\n",
       "    <tr>\n",
       "      <th>19</th>\n",
       "      <td>White</td>\n",
       "      <td>Michelle E</td>\n",
       "      <td>ME</td>\n",
       "      <td>Bioinformatics and Integrative Biology, Univer...</td>\n",
       "    </tr>\n",
       "    <tr>\n",
       "      <th>20</th>\n",
       "      <td>Weng</td>\n",
       "      <td>Zhiping</td>\n",
       "      <td>Z</td>\n",
       "      <td>Bioinformatics and Integrative Biology, Univer...</td>\n",
       "    </tr>\n",
       "    <tr>\n",
       "      <th>21</th>\n",
       "      <td>Colubri</td>\n",
       "      <td>Andrés</td>\n",
       "      <td>A</td>\n",
       "      <td>Bioinformatics and Integrative Biology, Univer...</td>\n",
       "    </tr>\n",
       "    <tr>\n",
       "      <th>22</th>\n",
       "      <td>Genereux</td>\n",
       "      <td>Diane P</td>\n",
       "      <td>DP</td>\n",
       "      <td>Broad Institute of MIT and Harvard, Cambridge,...</td>\n",
       "    </tr>\n",
       "    <tr>\n",
       "      <th>23</th>\n",
       "      <td>Lord</td>\n",
       "      <td>Kathryn A</td>\n",
       "      <td>KA</td>\n",
       "      <td>Bioinformatics and Integrative Biology, Univer...</td>\n",
       "    </tr>\n",
       "    <tr>\n",
       "      <th>24</th>\n",
       "      <td>Karlsson</td>\n",
       "      <td>Elinor K</td>\n",
       "      <td>EK</td>\n",
       "      <td>Bioinformatics and Integrative Biology, Univer...</td>\n",
       "    </tr>\n",
       "  </tbody>\n",
       "</table>\n",
       "</div>"
      ],
      "text/plain": [
       "          lastname   firstname initials  \\\n",
       "0          Morrill    Kathleen        K   \n",
       "1           Hekman     Jessica        J   \n",
       "2               Li         Xue        X   \n",
       "3          McClure       Jesse        J   \n",
       "4            Logan    Brittney        B   \n",
       "5          Goodman       Linda        L   \n",
       "6              Gao     Mingshi        M   \n",
       "7             Dong       Yinan        Y   \n",
       "8           Alonso      Marjie        M   \n",
       "9       Carmichael       Elena        E   \n",
       "10  Snyder-Mackler        Noah        N   \n",
       "11          Alonso       Jacob        J   \n",
       "12             Noh     Hyun Ji       HJ   \n",
       "13         Johnson      Jeremy        J   \n",
       "14      Koltookian     Michele        M   \n",
       "15            Lieu     Charlie        C   \n",
       "16        Megquier        Kate        K   \n",
       "17        Swofford        Ross        R   \n",
       "18    Turner-Maier       Jason        J   \n",
       "19           White  Michelle E       ME   \n",
       "20            Weng     Zhiping        Z   \n",
       "21         Colubri      Andrés        A   \n",
       "22        Genereux     Diane P       DP   \n",
       "23            Lord   Kathryn A       KA   \n",
       "24        Karlsson    Elinor K       EK   \n",
       "\n",
       "                                          affiliation  \n",
       "0   Bioinformatics and Integrative Biology, Univer...  \n",
       "1   Broad Institute of MIT and Harvard, Cambridge,...  \n",
       "2   Bioinformatics and Integrative Biology, Univer...  \n",
       "3   Bioinformatics and Integrative Biology, Univer...  \n",
       "4   Bioinformatics and Integrative Biology, Univer...  \n",
       "5   Broad Institute of MIT and Harvard, Cambridge,...  \n",
       "6   Bioinformatics and Integrative Biology, Univer...  \n",
       "7   Bioinformatics and Integrative Biology, Univer...  \n",
       "8   The International Association of Animal Behavi...  \n",
       "9   Bioinformatics and Integrative Biology, Univer...  \n",
       "10  Center for Evolution and Medicine, Arizona Sta...  \n",
       "11  Broad Institute of MIT and Harvard, Cambridge,...  \n",
       "12  Broad Institute of MIT and Harvard, Cambridge,...  \n",
       "13  Broad Institute of MIT and Harvard, Cambridge,...  \n",
       "14  Broad Institute of MIT and Harvard, Cambridge,...  \n",
       "15  Broad Institute of MIT and Harvard, Cambridge,...  \n",
       "16  Broad Institute of MIT and Harvard, Cambridge,...  \n",
       "17  Broad Institute of MIT and Harvard, Cambridge,...  \n",
       "18  Broad Institute of MIT and Harvard, Cambridge,...  \n",
       "19  Bioinformatics and Integrative Biology, Univer...  \n",
       "20  Bioinformatics and Integrative Biology, Univer...  \n",
       "21  Bioinformatics and Integrative Biology, Univer...  \n",
       "22  Broad Institute of MIT and Harvard, Cambridge,...  \n",
       "23  Bioinformatics and Integrative Biology, Univer...  \n",
       "24  Bioinformatics and Integrative Biology, Univer...  "
      ]
     },
     "execution_count": 82,
     "metadata": {},
     "output_type": "execute_result"
    }
   ],
   "source": [
    "pd.DataFrame.from_dict((eval(test_string.strip(']['))))"
   ]
  },
  {
   "cell_type": "code",
   "execution_count": null,
   "metadata": {},
   "outputs": [],
   "source": []
  },
  {
   "cell_type": "code",
   "execution_count": 86,
   "metadata": {},
   "outputs": [],
   "source": [
    "\"\"\" given a list of dicitonary containing fist and last name of authros make a pandas column of authors\"\"\"\n",
    "\n",
    "def make_authors_column(df):\n",
    "    df_copy = df.copy(deep=True)\n",
    "    authors_list = []\n",
    "    for i in range(len(df_copy['authors'])):\n",
    "        try:\n",
    "            test_string = (df_copy['authors'][i])\n",
    "            df = pd.DataFrame.from_dict((eval(test_string.strip(']['))))\n",
    "            df['company_name'] = df_copy['company_name'][i]\n",
    "            df['pubmed_id'] = df_copy['article_id'][i]\n",
    "            df['title'] = df_copy['title'][i]\n",
    "            authors_list.append(df)\n",
    "        except:\n",
    "            test_string = (df_copy['authors'][i])\n",
    "            df = pd.DataFrame.from_dict(eval(test_string.strip('][')), orient='index').T\n",
    "            df['company_name'] = df_copy['company_name'][i]\n",
    "            df['pubmed_id'] = df_copy['article_id'][i]\n",
    "            df['title'] = df_copy['title'][i]\n",
    "            authors_list.append(df)\n",
    "            \n",
    "    df_final_authors= pd.concat(authors_list).reset_index(drop=True)\n",
    "    return df_final_authors"
   ]
  },
  {
   "cell_type": "code",
   "execution_count": 90,
   "metadata": {},
   "outputs": [],
   "source": [
    "authors_dataframe = make_authors_column(df_clean_papers)"
   ]
  },
  {
   "cell_type": "code",
   "execution_count": 91,
   "metadata": {},
   "outputs": [],
   "source": [
    "\"\"\" function that combiens firstname and lastname into one column called complete name\"\"\"\n",
    "\n",
    "def combine_first_last_name(df):\n",
    "    df_copy = df.copy(deep=True)\n",
    "    df_copy['complete_name'] = df_copy['firstname'] + ' ' + df_copy['lastname']\n",
    "    return df_copy"
   ]
  },
  {
   "cell_type": "code",
   "execution_count": 93,
   "metadata": {},
   "outputs": [],
   "source": [
    "authors_dataframe_final = combine_first_last_name(authors_dataframe)"
   ]
  },
  {
   "cell_type": "code",
   "execution_count": 97,
   "metadata": {},
   "outputs": [
    {
     "data": {
      "text/plain": [
       "Alex Zhavoronkov        57\n",
       "Matthias Hackl          47\n",
       "Eugeen Vanmechelen      36\n",
       "Erik Stoops             33\n",
       "Henrik Zetterberg       32\n",
       "                        ..\n",
       "Karen Van Weverbergh     1\n",
       "Andrea Slachevasky       1\n",
       "Yi Zhou                  1\n",
       "Sergei Markov            1\n",
       "Natalie Abramov          1\n",
       "Name: complete_name, Length: 26613, dtype: int64"
      ]
     },
     "execution_count": 97,
     "metadata": {},
     "output_type": "execute_result"
    }
   ],
   "source": [
    "(authors_dataframe_final['complete_name'].value_counts())"
   ]
  },
  {
   "cell_type": "code",
   "execution_count": null,
   "metadata": {},
   "outputs": [],
   "source": []
  }
 ],
 "metadata": {
  "kernelspec": {
   "display_name": "base",
   "language": "python",
   "name": "python3"
  },
  "language_info": {
   "codemirror_mode": {
    "name": "ipython",
    "version": 3
   },
   "file_extension": ".py",
   "mimetype": "text/x-python",
   "name": "python",
   "nbconvert_exporter": "python",
   "pygments_lexer": "ipython3",
   "version": "3.10.8"
  },
  "orig_nbformat": 4,
  "vscode": {
   "interpreter": {
    "hash": "c6e4e9f98eb68ad3b7c296f83d20e6de614cb42e90992a65aa266555a3137d0d"
   }
  }
 },
 "nbformat": 4,
 "nbformat_minor": 2
}
